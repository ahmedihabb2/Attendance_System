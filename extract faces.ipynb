{
 "cells": [
  {
   "cell_type": "code",
   "execution_count": 3,
   "metadata": {},
   "outputs": [],
   "source": [
    "import skimage.io as io\n",
    "import cv2\n",
    "# from skimage.draw import rectangle,rectangle_perimeter\n",
    "# from skimage.color import rgb2gray\n",
    "# import matplotlib.patches as mpatches\n",
    "# import matplotlib.pyplot as plt\n"
   ]
  },
  {
   "cell_type": "code",
   "execution_count": 4,
   "metadata": {},
   "outputs": [
    {
     "name": "stdout",
     "output_type": "stream",
     "text": [
      "[INFO] Found 4 Faces.\n",
      "[INFO] Object found. Saving locally.\n",
      "[INFO] Object found. Saving locally.\n",
      "[INFO] Object found. Saving locally.\n",
      "[INFO] Object found. Saving locally.\n",
      "[INFO] Image faces_detected.jpg written to filesystem:  None\n"
     ]
    }
   ],
   "source": [
    "image = io.imread('people_with_phones.png')\n",
    "gray = cv2.cvtColor(image, cv2.COLOR_BGR2GRAY)\n",
    "\n",
    "faceCascade = cv2.CascadeClassifier(cv2.data.haarcascades + \"haarcascade_frontalface_default.xml\")\n",
    "faces = faceCascade.detectMultiScale(\n",
    "    gray,\n",
    "    scaleFactor=1.3,\n",
    "    minNeighbors=3,\n",
    "    minSize=(30, 30)\n",
    ")\n",
    "\n",
    "print(\"[INFO] Found {0} Faces.\".format(len(faces)))\n",
    "\n",
    "# fig, ax = plt.subplots(ncols=1, nrows=1, figsize=(6, 6))\n",
    "# ax.imshow(image)\n",
    "\n",
    "for (x, y, w, h) in faces:\n",
    "    cv2.rectangle(image, (x, y), (x+w, y+h), (0, 255, 0), 2)\n",
    "    \n",
    "#     rect = mpatches.Rectangle((w, y),  w-x, h-y,fill=False, edgecolor='green', linewidth=2)\n",
    "#     ax.add_patch(rect)\n",
    "    \n",
    "#     rr,cc=rectangle_perimeter(start=(x, y), end=(w,h), clip=False)\n",
    "#     image[rr,cc]=1\n",
    "\n",
    "#     rr, cc = rectangle(start = (Ymin,Xmin), end = (Ymax,Xmax), shape=img_gray.shape)\n",
    "#     img_with_boxes[rr, cc] = 1 #set color white\n",
    "\n",
    "    roi_color = image[y:y + h, x:x + w]\n",
    "    print(\"[INFO] Object found. Saving locally.\")\n",
    "    io.imsave(str(w) + str(h) + '_faces.jpg', roi_color)\n",
    "\n",
    "status = io.imsave('faces_detected.jpg', image)\n",
    "print(\"[INFO] Image faces_detected.jpg written to filesystem: \", status)\n",
    "\n",
    "#faces, trained , labels for trained\n",
    "\n",
    "#save trained\n",
    "# trained_face_recognizer=lr.train_lbph(images)\n",
    "### apply lbp before saving, call lbp function\n",
    "# numpy.save('trainedRec.npy',trained_face_recognizer)\n",
    "\n",
    "#retrieve trained \n",
    "#trained_face_recognizer=numpy.load('trainedRec.npy')\n",
    "                "
   ]
  },
  {
   "cell_type": "code",
   "execution_count": null,
   "metadata": {},
   "outputs": [],
   "source": []
  }
 ],
 "metadata": {
  "kernelspec": {
   "display_name": "Python 3",
   "language": "python",
   "name": "python3"
  },
  "language_info": {
   "codemirror_mode": {
    "name": "ipython",
    "version": 3
   },
   "file_extension": ".py",
   "mimetype": "text/x-python",
   "name": "python",
   "nbconvert_exporter": "python",
   "pygments_lexer": "ipython3",
   "version": "3.7.6"
  }
 },
 "nbformat": 4,
 "nbformat_minor": 4
}
