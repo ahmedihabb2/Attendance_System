{
 "cells": [
  {
   "cell_type": "code",
   "execution_count": 1,
   "metadata": {},
   "outputs": [],
   "source": [
    "from train_detect import *"
   ]
  },
  {
   "cell_type": "code",
   "execution_count": 2,
   "metadata": {},
   "outputs": [
    {
     "name": "stdout",
     "output_type": "stream",
     "text": [
      "Building features\n",
      "Applying features to training examples\n",
      "Len X10\n",
      "Len Y10\n",
      "Selected 63960 potential features\n",
      "Chose classifier: <HaarLikeFeatures.WeakClassifier object at 0x000002632F1567F0> with accuracy: 10.000000 and alpha: inf\n",
      "Stopping early. FPR = 0\n",
      "False Positive Rate: 0/9 (0.000000)\n",
      "False Negative Rate: 0/1 (0.000000)\n",
      "Accuracy: 10/10 (1.000000)\n",
      "Average Classification Time: 0.000600\n"
     ]
    },
    {
     "name": "stderr",
     "output_type": "stream",
     "text": [
      "c:\\Users\\LENOVO\\Desktop\\Img-project\\Viola_Jones.py:68: RuntimeWarning: divide by zero encountered in double_scalars\n",
      "  alpha = math.log(1.0/beta)\n"
     ]
    }
   ],
   "source": [
    "train_cascade([1, 5, 10, 50])"
   ]
  },
  {
   "cell_type": "code",
   "execution_count": 4,
   "metadata": {},
   "outputs": [
    {
     "name": "stdout",
     "output_type": "stream",
     "text": [
      "False Positive Rate: 1261/23573 (0.053493)\n",
      "False Negative Rate: 431/472 (0.913136)\n",
      "Accuracy: 22353/24045 (0.929632)\n",
      "Average Classification Time: 0.000900\n"
     ]
    }
   ],
   "source": [
    "test_cascade()"
   ]
  }
 ],
 "metadata": {
  "interpreter": {
   "hash": "37eb40c3388cfde35488e2d005b0d69ca91ddeff8a429754d4da636d3f888e5e"
  },
  "kernelspec": {
   "display_name": "Python 3.8.8 64-bit ('base': conda)",
   "language": "python",
   "name": "python3"
  },
  "language_info": {
   "codemirror_mode": {
    "name": "ipython",
    "version": 3
   },
   "file_extension": ".py",
   "mimetype": "text/x-python",
   "name": "python",
   "nbconvert_exporter": "python",
   "pygments_lexer": "ipython3",
   "version": "3.8.8"
  },
  "orig_nbformat": 4
 },
 "nbformat": 4,
 "nbformat_minor": 2
}
