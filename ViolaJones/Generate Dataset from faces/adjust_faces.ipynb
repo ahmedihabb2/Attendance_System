{
 "cells": [
  {
   "cell_type": "code",
   "execution_count": 1,
   "metadata": {},
   "outputs": [],
   "source": [
    "import cv2\n",
    "import os\n",
    "import skimage.io as io\n",
    "from skimage.color import rgb2gray,rgb2hsv\n",
    "import pickle\n",
    "import numpy as np"
   ]
  },
  {
   "cell_type": "code",
   "execution_count": 13,
   "metadata": {},
   "outputs": [
    {
     "data": {
      "text/plain": [
       "array([[219, 218, 216, ..., 235, 236, 237],\n",
       "       [218, 217, 216, ..., 235, 235, 235],\n",
       "       [218, 217, 216, ..., 234, 234, 235],\n",
       "       ...,\n",
       "       [120, 115, 108, ..., 128, 129, 131],\n",
       "       [119, 115, 108, ..., 130, 132, 132],\n",
       "       [119, 115, 109, ..., 135, 136, 135]], dtype=uint8)"
      ]
     },
     "execution_count": 13,
     "metadata": {},
     "output_type": "execute_result"
    }
   ],
   "source": [
    "def gamma(values: np.ndarray, coeff: float=2.2) -> np.ndarray:\n",
    "    return values**(1./coeff)\n",
    "\n",
    "img = io.imread('Faces/1908_Washington_Bellingham_Bellingham_18-0.png')\n",
    "img  = cv2.cvtColor(img, cv2.COLOR_BGR2GRAY) /255\n",
    "img = gamma(img)\n",
    "img = img *255\n",
    "img = img.astype(np.uint8)"
   ]
  },
  {
   "cell_type": "code",
   "execution_count": 16,
   "metadata": {},
   "outputs": [],
   "source": [
    "imgs = os.listdir('test_faces')\n",
    "store = []\n",
    "for img in imgs:\n",
    "    full_path = os.path.join('test_faces', img)\n",
    "    face = io.imread(full_path)\n",
    "    face = cv2.cvtColor(face, cv2.COLOR_BGR2GRAY) /255\n",
    "    face = (gamma(face) *255).astype(np.uint8)\n",
    "    face = face[50:,:]\n",
    "    face = cv2.resize(face , (19,19))\n",
    "    store.append((face,1))\n",
    "    # cv2.imwrite(\n",
    "    #   'output/' +  img + '_resized.jpg', face)\n"
   ]
  },
  {
   "cell_type": "code",
   "execution_count": 17,
   "metadata": {},
   "outputs": [],
   "source": [
    "file = open('test_faces.pkl', 'wb') \n",
    "pickle.dump(store, file)\n",
    "file.close()\n",
    "with open(\"test_faces.pkl\", 'rb') as f:\n",
    "    training = pickle.load(f)"
   ]
  },
  {
   "cell_type": "code",
   "execution_count": null,
   "metadata": {},
   "outputs": [],
   "source": []
  }
 ],
 "metadata": {
  "interpreter": {
   "hash": "37eb40c3388cfde35488e2d005b0d69ca91ddeff8a429754d4da636d3f888e5e"
  },
  "kernelspec": {
   "display_name": "Python 3.8.8 64-bit ('base': conda)",
   "language": "python",
   "name": "python3"
  },
  "language_info": {
   "codemirror_mode": {
    "name": "ipython",
    "version": 3
   },
   "file_extension": ".py",
   "mimetype": "text/x-python",
   "name": "python",
   "nbconvert_exporter": "python",
   "pygments_lexer": "ipython3",
   "version": "3.8.8"
  },
  "orig_nbformat": 4
 },
 "nbformat": 4,
 "nbformat_minor": 2
}
